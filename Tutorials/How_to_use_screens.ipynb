{
  "cells": [
    {
      "cell_type": "markdown",
      "source": [
        "## How to use Linux screens\n",
        "\n",
        "Credit: Natalie Deforest"
      ],
      "metadata": {}
    },
    {
      "cell_type": "markdown",
      "source": [
        "Screens are a very useful feature of Linux, particularly for long-running processes on a remote machine. Screens keep running even if the SSH session ends, and multiple screens can be run at once. "
      ],
      "metadata": {}
    },
    {
      "cell_type": "markdown",
      "source": [
        "In order to start linux screen, simply type screen on the command line"
      ],
      "metadata": {}
    },
    {
      "cell_type": "code",
      "source": [
        "$ screen"
      ],
      "outputs": [],
      "execution_count": null,
      "metadata": {}
    },
    {
      "cell_type": "markdown",
      "source": [
        "Now you can use the terminal as usual!"
      ],
      "metadata": {}
    },
    {
      "cell_type": "markdown",
      "source": [
        "When you are done setting off commands you can detach from the screen, but still keep the screen running in the background, use \"Ctrl + a\", then \"d\"."
      ],
      "metadata": {}
    },
    {
      "cell_type": "markdown",
      "source": [
        "When using multiple screens, it can be useful to name them for ease in reopening screens later on. To do this, use the -S flag"
      ],
      "metadata": {}
    },
    {
      "cell_type": "code",
      "source": [
        "$ screen -S screen_name"
      ],
      "outputs": [],
      "execution_count": null,
      "metadata": {}
    },
    {
      "cell_type": "markdown",
      "source": [
        "\n",
        "\n",
        "To resume screen again, from the command line type:"
      ],
      "metadata": {}
    },
    {
      "cell_type": "code",
      "source": [
        "$ screen -r"
      ],
      "outputs": [],
      "execution_count": null,
      "metadata": {}
    },
    {
      "cell_type": "markdown",
      "source": [
        "If multiple screens are running, a list of available screens to be resumed will be shown. "
      ],
      "metadata": {}
    },
    {
      "cell_type": "code",
      "source": [
        "# Output\n",
        "$ screen -r\n",
        "There are several suitable screens on:\n",
        "        61395.pts-674.tscc-login1       (Detached)\n",
        "        49742.pts-674.tscc-login1       (Detached)\n",
        "Type \"screen [-d] -r [pid.]tty.host\" to resume one of them."
      ],
      "outputs": [],
      "execution_count": null,
      "metadata": {}
    },
    {
      "cell_type": "markdown",
      "source": [
        "To resume a screen, add the session ID after the -r flag:"
      ],
      "metadata": {}
    },
    {
      "cell_type": "code",
      "source": [
        "$ screen -r 61395.pts-674.tscc-login1"
      ],
      "outputs": [],
      "execution_count": null,
      "metadata": {}
    },
    {
      "cell_type": "markdown",
      "source": [
        "To get a list of sessions, in the command line type: "
      ],
      "metadata": {}
    },
    {
      "cell_type": "code",
      "source": [
        "$ screen -ls"
      ],
      "outputs": [],
      "execution_count": null,
      "metadata": {}
    },
    {
      "cell_type": "markdown",
      "source": [
        "To completely shutdown a screen, within the screen type: \"Ctrl + a\", then \":quit\""
      ],
      "metadata": {}
    },
    {
      "cell_type": "markdown",
      "source": [
        "## Helpful tip:"
      ],
      "metadata": {}
    },
    {
      "cell_type": "markdown",
      "source": [
        "If you consistently use jupyter notebook, open the notebook in a screen so your kernels will keep running even when you end your SSH session."
      ],
      "metadata": {}
    },
    {
      "cell_type": "code",
      "source": [
        "$ screen\n",
        "$ jupyter notebook --no-browser --port=1234"
      ],
      "outputs": [],
      "execution_count": null,
      "metadata": {}
    }
  ],
  "metadata": {
    "kernelspec": {
      "name": "python3",
      "language": "python",
      "display_name": "Python 3"
    },
    "language_info": {
      "name": "python",
      "version": "3.6.7",
      "mimetype": "text/x-python",
      "codemirror_mode": {
        "name": "ipython",
        "version": 3
      },
      "pygments_lexer": "ipython3",
      "nbconvert_exporter": "python",
      "file_extension": ".py"
    },
    "kernel_info": {
      "name": "python3"
    },
    "nteract": {
      "version": "0.15.0"
    }
  },
  "nbformat": 4,
  "nbformat_minor": 2
}