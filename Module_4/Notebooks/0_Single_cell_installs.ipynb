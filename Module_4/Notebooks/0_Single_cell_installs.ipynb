{
 "cells": [
  {
   "cell_type": "markdown",
   "metadata": {},
   "source": [
    "# Installs for Module 4: Single Cell Analysis\n"
   ]
  },
  {
   "cell_type": "markdown",
   "metadata": {},
   "source": [
    "## 1. Log into TSCC:\n",
    "\n",
    "````\n",
    "$ ssh ucsd-train01@tscc-login.sdsc.edu\n",
    "```\n",
    "---"
   ]
  },
  {
   "cell_type": "markdown",
   "metadata": {},
   "source": [
    "## 2. Make sure you have installed conda onto your TSCC account\n",
    "\n",
    "```\n",
    "$ conda\n",
    "```\n",
    "\n",
    "My output looks like this:\n",
    "\n",
    "```\n",
    "usage: conda [-h] [-V] command ...\n",
    "```\n",
    "\n",
    "If you don't see this, then follow the [miniconda3 installation instructions HERE](https://github.com/biom262/cmm262-2020/blob/master/Module_2/Notebooks/Downloading_Miniconda.ipynb).\n",
    "\n",
    "---"
   ]
  },
  {
   "cell_type": "markdown",
   "metadata": {},
   "source": [
    "## 3. Submit installation script as job\n",
    "\n",
    "####  a. Make sure you are in your home directory\n",
    "```\n",
    "$ cd ~\n",
    "```\n",
    "\n",
    "#### b. Submit job from shell script\n",
    "\n",
    "We have written a job submission script to install your conda environment. Simply *copy and paste* this command.\n",
    "```\n",
    "$ qsub /oasis/tscc/scratch/biom200/cmm262/install/module4_install.sh\n",
    "```\n",
    "\n",
    "#### c. Check that your job submitted:\n",
    "\n",
    "Double check that the job submitted with `qstat` command. Replace `XX` with your training account number.\n",
    "\n",
    "```\n",
    "$ qstat -u ucsd-trainXX\n",
    "```\n",
    "\n",
    "I see this:\n",
    "\n",
    "```\n",
    "[ucsd-train01@tscc-4-6 ~]$ qstat -u ucsd-train01\n",
    "\n",
    "tscc-mgr7.local:\n",
    "                                                                                  Req'd    Req'd       Elap\n",
    "Job ID                  Username    Queue    Jobname          SessID  NDS   TSK   Memory   Time    S   Time\n",
    "----------------------- ----------- -------- ---------------- ------ ----- ------ ------ --------- - ---------\n",
    "20264029.tscc-mgr7.loc  ucsd-train0 hotel    module4_install.    --      1      1    --   03:00:00 Q       --\n",
    "```\n",
    "\n",
    "---\n",
    "\n",
    "# DONE \n",
    "\n",
    "- This submits a job to the hotel queue to create a conda environment for you. \n",
    "- You can now safely log off as soon as you submit the job.\n",
    "- It should be finished in <2 hours, you can keep check with the `qstat` command to see if the job is gone. \n",
    "\n",
    "---\n"
   ]
  },
  {
   "cell_type": "markdown",
   "metadata": {},
   "source": [
    "### Your new single cell conda environment:\n",
    "\n",
    "***After the job finishes*** you will have a new conda single cell environment named `module4_single_cell`\n",
    "\n",
    "All of the packages required for the single cell analysis will now be available to you once you enter the environment.\n",
    "\n",
    "- To activate and enter the environment use:\n",
    "```\n",
    "$ source activate module4_single_cell\n",
    "```\n",
    "\n",
    "- To exit the single cell environment we created and go back to your default environment, you can simply type: \n",
    "```\n",
    "$ conda deactivate module4_single_cell\n",
    "```\n"
   ]
  },
  {
   "cell_type": "code",
   "execution_count": null,
   "metadata": {},
   "outputs": [],
   "source": []
  }
 ],
 "metadata": {
  "kernelspec": {
   "display_name": "Python 3",
   "language": "python",
   "name": "python3"
  },
  "language_info": {
   "codemirror_mode": {
    "name": "ipython",
    "version": 3
   },
   "file_extension": ".py",
   "mimetype": "text/x-python",
   "name": "python",
   "nbconvert_exporter": "python",
   "pygments_lexer": "ipython3",
   "version": "3.7.4"
  },
  "nteract": {
   "version": "0.15.0"
  }
 },
 "nbformat": 4,
 "nbformat_minor": 4
}
